{
  "nbformat": 4,
  "nbformat_minor": 0,
  "metadata": {
    "colab": {
      "provenance": []
    },
    "kernelspec": {
      "name": "python3",
      "display_name": "Python 3"
    },
    "language_info": {
      "name": "python"
    }
  },
  "cells": [
    {
      "cell_type": "code",
      "execution_count": 6,
      "metadata": {
        "id": "Rdm2NC2q2EXC"
      },
      "outputs": [],
      "source": [
        "# First Prepare 5 Document\n",
        "documents = {\n",
        "    1: \"The quick brown fox jumps over the lazy dog.\",\n",
        "    2: \"A journey of a thousand miles begins with a single step.\",\n",
        "    3: \"To be or not to be, that is the question.\",\n",
        "    4: \"All that glitters is not gold.\",\n",
        "    5: \"Ask not what your country can do for you, ask what you can do for your country.\"\n",
        "}\n"
      ]
    },
    {
      "cell_type": "code",
      "source": [
        "import re\n",
        "\n",
        "# Preprocess and clean the text by removing punctuation and converting to lowercase\n",
        "def preprocess_text(text):\n",
        "    return re.sub(r'[^\\w\\s]', '', text).lower()\n",
        "\n",
        "# Build a dictionary of unique terms (vocabulary)\n",
        "def build_vocabulary(documents):\n",
        "    vocabulary = set()\n",
        "    for doc_id, text in documents.items():\n",
        "        words = preprocess_text(text).split()\n",
        "        vocabulary.update(words)\n",
        "    return sorted(vocabulary)\n",
        "\n",
        "# Display vocabulary in columns\n",
        "def display_vocabulary(vocab, num_columns=5):\n",
        "    for i, word in enumerate(vocab):\n",
        "        print(f\"{word:<15}\", end=\" \")  # Adjust column width\n",
        "        if (i + 1) % num_columns == 0:\n",
        "            print()  # Break line after 'num_columns' words\n",
        "\n",
        "# Sample documents\n",
        "documents = {\n",
        "    1: \"The quick brown fox jumps over the lazy dog.\",\n",
        "    2: \"A journey of a thousand miles begins with a single step.\",\n",
        "    3: \"To be or not to be, that is the question.\",\n",
        "    4: \"All that glitters is not gold.\",\n",
        "    5: \"Ask not what your country can do for you, ask what you can do for your country.\"\n",
        "}\n",
        "\n",
        "vocabulary = build_vocabulary(documents)\n",
        "\n",
        "print(\"Vocabulary:\")\n",
        "display_vocabulary(vocabulary)\n"
      ],
      "metadata": {
        "colab": {
          "base_uri": "https://localhost:8080/"
        },
        "id": "fKLPIVkA2IJZ",
        "outputId": "1205d762-167b-4010-f2e5-17428d65923e"
      },
      "execution_count": 7,
      "outputs": [
        {
          "output_type": "stream",
          "name": "stdout",
          "text": [
            "Vocabulary:\n",
            "a               all             ask             be              begins          \n",
            "brown           can             country         do              dog             \n",
            "for             fox             glitters        gold            is              \n",
            "journey         jumps           lazy            miles           not             \n",
            "of              or              over            question        quick           \n",
            "single          step            that            the             thousand        \n",
            "to              what            with            you             your            \n"
          ]
        }
      ]
    },
    {
      "cell_type": "code",
      "source": [
        "from collections import defaultdict\n",
        "\n",
        "# Build an inverted index\n",
        "def build_inverted_index(documents):\n",
        "    inverted_index = defaultdict(list)\n",
        "    for doc_id, text in documents.items():\n",
        "        words = preprocess_text(text).split()\n",
        "        for word in set(words):  # Use set to avoid duplicate words in the same document\n",
        "            inverted_index[word].append(doc_id)\n",
        "    return inverted_index\n",
        "\n",
        "# Display inverted index in column format\n",
        "def display_inverted_index(index, num_columns=3):\n",
        "    for i, (word, doc_ids) in enumerate(index.items()):\n",
        "        print(f\"{word:<15}: {doc_ids}\", end=\" \")\n",
        "        if (i + 1) % num_columns == 0:\n",
        "            print()  # Break line after 'num_columns' words\n",
        "\n",
        "inverted_index = build_inverted_index(documents)\n",
        "\n",
        "print(\"\\nInverted Index:\")\n",
        "display_inverted_index(inverted_index)\n"
      ],
      "metadata": {
        "colab": {
          "base_uri": "https://localhost:8080/"
        },
        "id": "S5P6J2Eo2oiV",
        "outputId": "2dbc811a-9edc-403a-bcde-52c669bfc254"
      },
      "execution_count": 9,
      "outputs": [
        {
          "output_type": "stream",
          "name": "stdout",
          "text": [
            "\n",
            "Inverted Index:\n",
            "dog            : [1] brown          : [1] jumps          : [1] \n",
            "over           : [1] lazy           : [1] quick          : [1] \n",
            "fox            : [1] the            : [1, 3] thousand       : [2] \n",
            "step           : [2] of             : [2] a              : [2] \n",
            "miles          : [2] begins         : [2] with           : [2] \n",
            "single         : [2] journey        : [2] is             : [3, 4] \n",
            "question       : [3] to             : [3] or             : [3] \n",
            "be             : [3] that           : [3, 4] not            : [3, 4, 5] \n",
            "all            : [4] glitters       : [4] gold           : [4] \n",
            "for            : [5] ask            : [5] you            : [5] \n",
            "do             : [5] country        : [5] what           : [5] \n",
            "can            : [5] your           : [5] "
          ]
        }
      ]
    },
    {
      "cell_type": "code",
      "source": [
        "# Implement Boolean Retrival\n",
        "# Boolean AND query\n",
        "def boolean_and(query, inverted_index):\n",
        "    query_terms = query.split()\n",
        "    result_sets = [set(inverted_index[term]) for term in query_terms if term in inverted_index]\n",
        "    if result_sets:\n",
        "        return set.intersection(*result_sets)\n",
        "    return set()\n",
        "\n",
        "# Boolean OR query\n",
        "def boolean_or(query, inverted_index):\n",
        "    query_terms = query.split()\n",
        "    result_sets = [set(inverted_index[term]) for term in query_terms if term in inverted_index]\n",
        "    if result_sets:\n",
        "        return set.union(*result_sets)\n",
        "    return set()\n",
        "\n",
        "# Boolean NOT query (inverts the result of an AND query)\n",
        "def boolean_not(query, inverted_index, all_doc_ids):\n",
        "    result = boolean_and(query, inverted_index)\n",
        "    return all_doc_ids - result\n",
        "\n",
        "# Example usage\n",
        "all_doc_ids = set(documents.keys())\n",
        "\n",
        "and_result = boolean_and(\"quick brown\", inverted_index)\n",
        "or_result = boolean_or(\"quick question\", inverted_index)\n",
        "not_result = boolean_not(\"quick\", inverted_index, all_doc_ids)\n",
        "\n",
        "print(\"Boolean AND result:\", and_result)\n",
        "print(\"Boolean OR result:\", or_result)\n",
        "print(\"Boolean NOT result:\", not_result)\n"
      ],
      "metadata": {
        "colab": {
          "base_uri": "https://localhost:8080/"
        },
        "id": "smJQoVXx260X",
        "outputId": "0a4fd165-223c-4149-d558-291d54b486b9"
      },
      "execution_count": 5,
      "outputs": [
        {
          "output_type": "stream",
          "name": "stdout",
          "text": [
            "Boolean AND result: {1}\n",
            "Boolean OR result: {1, 3}\n",
            "Boolean NOT result: {2, 3, 4, 5}\n"
          ]
        }
      ]
    }
  ]
}