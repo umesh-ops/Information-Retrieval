{
  "nbformat": 4,
  "nbformat_minor": 0,
  "metadata": {
    "colab": {
      "provenance": [],
      "include_colab_link": true
    },
    "kernelspec": {
      "name": "python3",
      "display_name": "Python 3"
    },
    "language_info": {
      "name": "python"
    }
  },
  "cells": [
    {
      "cell_type": "markdown",
      "metadata": {
        "id": "view-in-github",
        "colab_type": "text"
      },
      "source": [
        "<a href=\"https://colab.research.google.com/github/umesh-ops/Information-Retrieval/blob/main/Umesh_W5.ipynb\" target=\"_parent\"><img src=\"https://colab.research.google.com/assets/colab-badge.svg\" alt=\"Open In Colab\"/></a>"
      ]
    },
    {
      "cell_type": "code",
      "source": [
        "pip install PyPDF2\n"
      ],
      "metadata": {
        "colab": {
          "base_uri": "https://localhost:8080/"
        },
        "id": "JjGOdGxvlBzN",
        "outputId": "523ab4d1-708f-4fd8-f272-a85f3651c5ef"
      },
      "execution_count": 13,
      "outputs": [
        {
          "output_type": "stream",
          "name": "stdout",
          "text": [
            "Requirement already satisfied: PyPDF2 in /usr/local/lib/python3.10/dist-packages (3.0.1)\n"
          ]
        }
      ]
    },
    {
      "cell_type": "code",
      "execution_count": 14,
      "metadata": {
        "colab": {
          "base_uri": "https://localhost:8080/"
        },
        "id": "bUCS3Mutkp1z",
        "outputId": "60e061a3-d331-400f-92e2-57424a896bcb"
      },
      "outputs": [
        {
          "output_type": "stream",
          "name": "stdout",
          "text": [
            "Drive already mounted at /content/drive; to attempt to forcibly remount, call drive.mount(\"/content/drive\", force_remount=True).\n"
          ]
        }
      ],
      "source": [
        "from google.colab import drive\n",
        "drive.mount('/content/drive')"
      ]
    },
    {
      "cell_type": "code",
      "source": [
        "# Step 2: Import necessary libraries\n",
        "from collections import defaultdict, Counter  # Add this line to your imports\n",
        "import numpy as np\n",
        "import re\n",
        "import os\n",
        "import PyPDF2\n",
        "from math import log"
      ],
      "metadata": {
        "id": "ihrR36b_kv4X"
      },
      "execution_count": 15,
      "outputs": []
    },
    {
      "cell_type": "code",
      "source": [
        "# Step 3: Function to preprocess text\n",
        "def preprocess(text):\n",
        "    \"\"\"Preprocesses the text by removing special characters and converting to lowercase.\"\"\"\n",
        "    text = re.sub(r'\\W+', ' ', text)  # Remove special characters\n",
        "    return text.lower()  # Convert to lowercase"
      ],
      "metadata": {
        "id": "DtQF9eQUlHTH"
      },
      "execution_count": 16,
      "outputs": []
    },
    {
      "cell_type": "code",
      "source": [
        "def load_documents(path):\n",
        "    \"\"\"Loads PDF documents from a specified path and preprocesses them.\"\"\"\n",
        "    documents = []\n",
        "    for filename in os.listdir(path):\n",
        "        if filename.endswith('.pdf'):\n",
        "            with open(os.path.join(path, filename), 'rb') as file:\n",
        "                reader = PyPDF2.PdfReader(file)\n",
        "                text = ''\n",
        "                for page in reader.pages:\n",
        "                    text += page.extract_text()\n",
        "                documents.append(preprocess(text))\n",
        "    return documents\n"
      ],
      "metadata": {
        "id": "nDUbu8PflKWM"
      },
      "execution_count": 17,
      "outputs": []
    },
    {
      "cell_type": "code",
      "source": [
        "def load_queries(file_path):\n",
        "    \"\"\"Loads queries from a specified text file.\"\"\"\n",
        "    with open(file_path, 'r', encoding='utf-8') as file:\n",
        "        queries = [line.strip() for line in file.readlines()]\n",
        "    return queries\n"
      ],
      "metadata": {
        "id": "h5ummLdqlOlI"
      },
      "execution_count": 18,
      "outputs": []
    },
    {
      "cell_type": "code",
      "source": [
        "def compute_statistics(documents):\n",
        "    \"\"\"Calculates term frequencies, document frequencies, and document lengths.\"\"\"\n",
        "    term_frequency = defaultdict(Counter)\n",
        "    document_frequency = defaultdict(int)\n",
        "    document_lengths = []\n",
        "\n",
        "    for doc in documents:\n",
        "        words = doc.split()\n",
        "        doc_length = len(words)\n",
        "        document_lengths.append(doc_length)\n",
        "\n",
        "        for word in words:\n",
        "            term_frequency[word][doc] += 1\n",
        "\n",
        "        for word in set(words):\n",
        "            document_frequency[word] += 1\n",
        "\n",
        "    avg_doc_length = np.mean(document_lengths)\n",
        "    return term_frequency, document_frequency, document_lengths, avg_doc_length\n"
      ],
      "metadata": {
        "id": "Sh7B7ejYlQMK"
      },
      "execution_count": 27,
      "outputs": []
    },
    {
      "cell_type": "code",
      "source": [
        "def compute_corpus_probabilities(documents):\n",
        "    \"\"\"Calculates corpus-wide word probabilities for the language model.\"\"\"\n",
        "    corpus_frequency = defaultdict(int)\n",
        "    total_words = 0\n",
        "    for doc in documents:\n",
        "        words = doc.split()\n",
        "        for word in words:\n",
        "            corpus_frequency[word] += 1\n",
        "        total_words += len(words)\n",
        "\n",
        "    corpus_prob = {word: freq / total_words for word, freq in corpus_frequency.items()}\n",
        "    return corpus_prob\n"
      ],
      "metadata": {
        "id": "TybJXfxalWmS"
      },
      "execution_count": 20,
      "outputs": []
    },
    {
      "cell_type": "code",
      "source": [
        "def compute_bm25_scores(query, documents, term_frequency, document_frequency, document_lengths, avg_doc_length, k1=1.5, b=0.75):\n",
        "    \"\"\"Computes BM25 scores for the query across documents.\"\"\"\n",
        "    scores = {}\n",
        "    N = len(documents)\n",
        "    for i, doc in enumerate(documents):\n",
        "        score = 0\n",
        "        doc_length = document_lengths[i]\n",
        "        for word in query.split():\n",
        "            if word in document_frequency:\n",
        "                idf = log((N - document_frequency[word] + 0.5) / (document_frequency[word] + 0.5) + 1)\n",
        "                tf = term_frequency[word][doc]\n",
        "                score += idf * ((tf * (k1 + 1)) / (tf + k1 * (1 - b + b * (doc_length / avg_doc_length))))\n",
        "        scores[i] = score\n",
        "    return scores\n"
      ],
      "metadata": {
        "id": "ktqEa3wfnXwb"
      },
      "execution_count": 21,
      "outputs": []
    },
    {
      "cell_type": "code",
      "source": [
        "def compute_jm_scores(query, documents, term_frequency, document_length, corpus_word_prob, lambda_param=0.7):\n",
        "    \"\"\"Computes Jelinek-Mercer smoothing scores for the query across documents.\"\"\"\n",
        "    scores = {}\n",
        "    for i, doc in enumerate(documents):\n",
        "        score = 1\n",
        "        for word in query.split():\n",
        "            term_prob_doc = term_frequency[word][doc] / document_length[i] if term_frequency[word][doc] else 0\n",
        "            term_prob_corpus = corpus_word_prob[word] if word in corpus_word_prob else 0\n",
        "            score *= (lambda_param * term_prob_doc) + ((1 - lambda_param) * term_prob_corpus)\n",
        "        scores[i] = score\n",
        "    return scores\n"
      ],
      "metadata": {
        "id": "7xBGuSAFnaiW"
      },
      "execution_count": 22,
      "outputs": []
    },
    {
      "cell_type": "code",
      "source": [
        "# Step 8: Load documents and queries\n",
        "path_to_documents = \"/content/drive/My Drive/AI Documents\"\n",
        "documents = load_documents(path_to_documents)"
      ],
      "metadata": {
        "id": "tztFre4Rs-Lm"
      },
      "execution_count": 23,
      "outputs": []
    },
    {
      "cell_type": "code",
      "source": [
        "queries_file_path = \"/content/drive/My Drive/AI Documents/queriesnew.txt\"\n",
        "queries = load_queries(queries_file_path)\n"
      ],
      "metadata": {
        "id": "vwO5SSZMtBG7"
      },
      "execution_count": 24,
      "outputs": []
    },
    {
      "cell_type": "code",
      "source": [
        "# Step 9: Compute statistics and corpus probabilities\n",
        "term_frequency, document_frequency, document_lengths, avg_doc_length = compute_statistics(documents)\n",
        "corpus_prob = compute_corpus_probabilities(documents)"
      ],
      "metadata": {
        "id": "lla_3r91tEk7"
      },
      "execution_count": 25,
      "outputs": []
    },
    {
      "cell_type": "code",
      "source": [
        "# Step 10: Calculate BM25 and Jelinek-Mercer Scores\n",
        "for query in queries:\n",
        "    bm25_scores = compute_bm25_scores(query, documents, term_frequency, document_frequency, document_lengths, avg_doc_length) # Added avg_doc_length as an argument\n",
        "    jm_scores = compute_jm_scores(query, documents, term_frequency, document_lengths, corpus_prob)\n",
        "    print(f\"Query: {query}\\nBM25 Scores: {bm25_scores}\\nJelinek-Mercer Scores: {jm_scores}\\n\")"
      ],
      "metadata": {
        "colab": {
          "base_uri": "https://localhost:8080/"
        },
        "id": "4-NUiohTKvjm",
        "outputId": "58face78-0925-4b32-fc98-5bc571c07ad6"
      },
      "execution_count": 26,
      "outputs": [
        {
          "output_type": "stream",
          "name": "stdout",
          "text": [
            "Query: What is AI?\n",
            "BM25 Scores: {0: 0.11221982903548296, 1: 0.11413944782461935, 2: 0.11144204344495817, 3: 0.11401468848626134, 4: 0.11326035146695106, 5: 0.10945505278781677, 6: 0.11291476102508079, 7: 0.11261532870393956, 8: 0.11204917610420269, 9: 0.11137536218403751}\n",
            "Jelinek-Mercer Scores: {0: 0.0, 1: 0.0, 2: 0.0, 3: 0.0, 4: 0.0, 5: 0.0, 6: 0.0, 7: 0.0, 8: 0.0, 9: 0.0}\n",
            "\n",
            "Query: How does machine learning work?\n",
            "BM25 Scores: {0: 2.254091536388064, 1: 1.9055215893938104, 2: 0.0, 3: 2.2878702810816756, 4: 1.4052730522901737, 5: 0.42963049254025504, 6: 0.44007067938111066, 7: 1.2893606073378219, 8: 2.1104267951602402, 9: 2.0564618110662303}\n",
            "Jelinek-Mercer Scores: {0: 0.0, 1: 0.0, 2: 0.0, 3: 0.0, 4: 0.0, 5: 0.0, 6: 0.0, 7: 0.0, 8: 0.0, 9: 0.0}\n",
            "\n",
            "Query: What are the ethical implications of AI?\n",
            "BM25 Scores: {0: 2.2172406309708874, 1: 1.5969338384354987, 2: 0.3418157525850679, 3: 0.3427079865587179, 4: 1.0208853227600605, 5: 0.3335993391895891, 6: 0.9898753159413337, 7: 2.417908888335355, 8: 1.8317766503497799, 9: 2.1075213550561482}\n",
            "Jelinek-Mercer Scores: {0: 0.0, 1: 0.0, 2: 0.0, 3: 0.0, 4: 0.0, 5: 0.0, 6: 0.0, 7: 0.0, 8: 0.0, 9: 0.0}\n",
            "\n",
            "Query: Explain the difference between AI and machine learning.\n",
            "BM25 Scores: {0: 2.508366083428486, 1: 2.140257113306756, 2: 0.5660248427452557, 3: 2.8851150875115223, 4: 2.043633486195464, 5: 0.2300991861244548, 6: 0.6700754388888648, 7: 0.5307102197091549, 8: 1.5174311179788167, 9: 1.632512849172974}\n",
            "Jelinek-Mercer Scores: {0: 0.0, 1: 0.0, 2: 0.0, 3: 0.0, 4: 0.0, 5: 0.0, 6: 0.0, 7: 0.0, 8: 0.0, 9: 0.0}\n",
            "\n",
            "Query: What are some applications of AI in healthcare?\n",
            "BM25 Scores: {0: 0.7514075509432581, 1: 0.645389665503642, 2: 0.5931314513449664, 3: 0.674318066237254, 4: 0.7417500124859859, 5: 0.4091033828816684, 6: 0.6653701416489863, 7: 0.594173842759929, 8: 0.6994350515898167, 9: 0.6378959727336849}\n",
            "Jelinek-Mercer Scores: {0: 0.0, 1: 0.0, 2: 0.0, 3: 0.0, 4: 0.0, 5: 0.0, 6: 0.0, 7: 0.0, 8: 0.0, 9: 0.0}\n",
            "\n",
            "Query: How does natural language processing function?\n",
            "BM25 Scores: {0: 2.443937898881601, 1: 2.7736778624457434, 2: 0.0, 3: 1.2758549200351932, 4: 1.8303183868150465, 5: 1.9637014935595776, 6: 0.44007067938111066, 7: 0.9128383774939137, 8: 3.242002462078206, 9: 1.6244102470108084}\n",
            "Jelinek-Mercer Scores: {0: 0.0, 1: 0.0, 2: 0.0, 3: 0.0, 4: 0.0, 5: 0.0, 6: 0.0, 7: 0.0, 8: 0.0, 9: 0.0}\n",
            "\n",
            "Query: What is the Turing Test?\n",
            "BM25 Scores: {0: 0.22761884644809904, 1: 0.22987084590615525, 2: 0.22621931310974858, 3: 0.22953595549105096, 4: 0.22859180207026986, 5: 0.22478535652909865, 6: 0.22812220367107844, 7: 0.227727759719496, 8: 0.2273865809728579, 9: 0.22671912364366728}\n",
            "Jelinek-Mercer Scores: {0: 0.0, 1: 0.0, 2: 0.0, 3: 0.0, 4: 0.0, 5: 0.0, 6: 0.0, 7: 0.0, 8: 0.0, 9: 0.0}\n",
            "\n",
            "Query: Describe the concept of neural networks.\n",
            "BM25 Scores: {0: 1.9576867624560705, 1: 1.3573573110905315, 2: 0.22932955653368003, 3: 1.7369273966751182, 4: 1.2302105885016115, 5: 1.0964061805095335, 6: 0.22976210866861785, 7: 0.22970814846992424, 8: 0.7917775642851397, 9: 2.43951644366207}\n",
            "Jelinek-Mercer Scores: {0: 0.0, 1: 0.0, 2: 0.0, 3: 0.0, 4: 0.0, 5: 0.0, 6: 0.0, 7: 0.0, 8: 0.0, 9: 0.0}\n",
            "\n",
            "Query: What are the challenges in AI development?\n",
            "BM25 Scores: {0: 0.5428312540941774, 1: 0.4347687818014745, 2: 0.5326391244475945, 3: 0.34205444461261536, 4: 0.5057870771481296, 5: 0.5152177661484276, 6: 0.5263531560450798, 7: 0.6246019293914409, 8: 0.6122636793463655, 9: 0.5378817527299986}\n",
            "Jelinek-Mercer Scores: {0: 0.0, 1: 0.0, 2: 0.0, 3: 0.0, 4: 0.0, 5: 0.0, 6: 0.0, 7: 0.0, 8: 0.0, 9: 0.0}\n",
            "\n",
            "Query: How is AI transforming the business landscape?\n",
            "BM25 Scores: {0: 2.746051100285886, 1: 2.163792512443846, 2: 0.22621931310974858, 3: 0.22953595549105096, 4: 1.00408016247046, 5: 0.22478535652909865, 6: 1.1262578171164388, 7: 0.227727759719496, 8: 0.2273865809728579, 9: 1.1916188003893906}\n",
            "Jelinek-Mercer Scores: {0: 0.0, 1: 0.0, 2: 0.0, 3: 0.0, 4: 0.0, 5: 0.0, 6: 0.0, 7: 0.0, 8: 0.0, 9: 0.0}\n",
            "\n"
          ]
        }
      ]
    }
  ]
}